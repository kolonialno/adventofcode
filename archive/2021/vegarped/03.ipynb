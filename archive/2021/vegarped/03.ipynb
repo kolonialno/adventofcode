{
 "cells": [
  {
   "cell_type": "markdown",
   "metadata": {},
   "source": [
    "## Prob 3"
   ]
  },
  {
   "cell_type": "code",
   "execution_count": 3,
   "metadata": {},
   "outputs": [
    {
     "data": {
      "text/plain": [
       "[110000000001, 10011111011, 111000011110, 110101011110, 100000010100]"
      ]
     },
     "execution_count": 3,
     "metadata": {},
     "output_type": "execute_result"
    }
   ],
   "source": [
    "f = open(\"input/03.txt\",\"r\")\n",
    "input = f.readlines()\n",
    "input = [int(x[:-1]) for x in input]\n",
    "input[0:5]"
   ]
  },
  {
   "cell_type": "code",
   "execution_count": 33,
   "metadata": {},
   "outputs": [],
   "source": [
    "input_2 = []\n",
    "for i in input:\n",
    "    if len(i) < 12:\n",
    "        input_2.append('0' * (12 - len(i)) + i)\n",
    "    else:\n",
    "        input_2.append(i)\n",
    "input = input_2"
   ]
  },
  {
   "cell_type": "code",
   "execution_count": 35,
   "metadata": {},
   "outputs": [],
   "source": [
    "input = [str(x) for x in input]\n",
    "gamma = ''\n",
    "beta = ''\n",
    "for i in range(len(input[0])):\n",
    "    num_1 = 0\n",
    "    num_0 = 0\n",
    "    for j in range(len(input)):\n",
    "        if len(input[j]) >= i+1:\n",
    "            if input[j][i] == '1':\n",
    "                num_1 += 1\n",
    "            else:\n",
    "                num_0 += 1\n",
    "    if num_1 > num_0:\n",
    "        gamma += '1'\n",
    "        beta += '0'\n",
    "    else:\n",
    "        gamma += '0'\n",
    "        beta += '1'\n"
   ]
  },
  {
   "cell_type": "code",
   "execution_count": 39,
   "metadata": {},
   "outputs": [
    {
     "name": "stdout",
     "output_type": "stream",
     "text": [
      "3885894\n"
     ]
    }
   ],
   "source": [
    "print(int(gamma, 2) * int(beta, 2))"
   ]
  },
  {
   "cell_type": "code",
   "execution_count": 67,
   "metadata": {},
   "outputs": [
    {
     "name": "stdout",
     "output_type": "stream",
     "text": [
      "['111010111111']\n"
     ]
    }
   ],
   "source": [
    "candidates = input\n",
    "for i in range(len(input[0])):\n",
    "    check = [x[i] == '1' for x in candidates]\n",
    "    loc = 0\n",
    "    candidates_1 = []\n",
    "    candidates_0 = []\n",
    "    for c in check:\n",
    "        if c:\n",
    "            candidates_1.append(candidates[loc])\n",
    "        else:\n",
    "            candidates_0.append(candidates[loc])\n",
    "        loc += 1\n",
    "    if len(candidates_1) >= len(candidates_0):\n",
    "        candidates = candidates_1\n",
    "    else:\n",
    "        candidates = candidates_0\n",
    "    if len(candidates) == 1:\n",
    "        ind_1 = candidates\n",
    "        break\n",
    "print(ind_1)"
   ]
  },
  {
   "cell_type": "code",
   "execution_count": 68,
   "metadata": {},
   "outputs": [
    {
     "name": "stdout",
     "output_type": "stream",
     "text": [
      "['010010000111']\n"
     ]
    }
   ],
   "source": [
    "candidates = input\n",
    "for i in range(len(input[0])):\n",
    "    check = [x[i] == '1' for x in candidates]\n",
    "    loc = 0\n",
    "    candidates_1 = []\n",
    "    candidates_0 = []\n",
    "    for c in check:\n",
    "        if c:\n",
    "            candidates_1.append(candidates[loc])\n",
    "        else:\n",
    "            candidates_0.append(candidates[loc])\n",
    "        loc += 1\n",
    "    if len(candidates_1) < len(candidates_0):\n",
    "        candidates = candidates_1\n",
    "    else:\n",
    "        candidates = candidates_0\n",
    "    if len(candidates) == 1:\n",
    "        ind_2 = candidates\n",
    "        break\n",
    "print(ind_2)"
   ]
  },
  {
   "cell_type": "code",
   "execution_count": 70,
   "metadata": {},
   "outputs": [
    {
     "name": "stdout",
     "output_type": "stream",
     "text": [
      "4375225\n"
     ]
    }
   ],
   "source": [
    "print(int(ind_1[0], 2) * int(ind_2[0], 2))"
   ]
  }
 ],
 "metadata": {
  "interpreter": {
   "hash": "aee8b7b246df8f9039afb4144a1f6fd8d2ca17a180786b69acc140d282b71a49"
  },
  "kernelspec": {
   "display_name": "Python 3.9.7 64-bit",
   "language": "python",
   "name": "python3"
  },
  "language_info": {
   "codemirror_mode": {
    "name": "ipython",
    "version": 3
   },
   "file_extension": ".py",
   "mimetype": "text/x-python",
   "name": "python",
   "nbconvert_exporter": "python",
   "pygments_lexer": "ipython3",
   "version": "3.8.5"
  },
  "orig_nbformat": 4
 },
 "nbformat": 4,
 "nbformat_minor": 2
}
