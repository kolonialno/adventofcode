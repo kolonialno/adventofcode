{
 "cells": [
  {
   "cell_type": "code",
   "execution_count": 1,
   "id": "2b058f27",
   "metadata": {},
   "outputs": [],
   "source": [
    "import numpy as np\n",
    "import re"
   ]
  },
  {
   "cell_type": "code",
   "execution_count": 2,
   "id": "e8ed10bb",
   "metadata": {},
   "outputs": [],
   "source": [
    "input_file = \"test_input.txt\""
   ]
  },
  {
   "cell_type": "code",
   "execution_count": 3,
   "id": "8495542c",
   "metadata": {},
   "outputs": [],
   "source": [
    "with open(input_file) as fh:\n",
    "    input = fh.readlines()"
   ]
  },
  {
   "cell_type": "code",
   "execution_count": 4,
   "id": "fc9865f3",
   "metadata": {},
   "outputs": [
    {
     "data": {
      "text/plain": [
       "['7,4,9,5,11,17,23,2,0,14,21,24,10,16,13,6,15,25,12,22,18,20,8,19,3,26,1\\n',\n",
       " '\\n',\n",
       " '22 13 17 11  0\\n',\n",
       " ' 8  2 23  4 24\\n',\n",
       " '21  9 14 16  7\\n',\n",
       " ' 6 10  3 18  5\\n',\n",
       " ' 1 12 20 15 19\\n',\n",
       " '\\n',\n",
       " ' 3 15  0  2 22\\n',\n",
       " ' 9 18 13 17  5\\n',\n",
       " '19  8  7 25 23\\n',\n",
       " '20 11 10 24  4\\n',\n",
       " '14 21 16 12  6\\n',\n",
       " '\\n',\n",
       " '14 21 17 24  4\\n',\n",
       " '10 16 15  9 19\\n',\n",
       " '18  8 23 26 20\\n',\n",
       " '22 11 13  6  5\\n',\n",
       " ' 2  0 12  3  7']"
      ]
     },
     "execution_count": 4,
     "metadata": {},
     "output_type": "execute_result"
    }
   ],
   "source": []
  },
  {
   "cell_type": "code",
   "execution_count": 7,
   "id": "a07a200d",
   "metadata": {},
   "outputs": [],
   "source": [
    "draws = [int(i) for i in input[0].split(',')]"
   ]
  },
  {
   "cell_type": "code",
   "execution_count": 9,
   "id": "ec552407",
   "metadata": {},
   "outputs": [
    {
     "ename": "ValueError",
     "evalue": "invalid literal for int() with base 10: '22 13 17 11  0\\n'",
     "output_type": "error",
     "traceback": [
      "\u001b[0;31m---------------------------------------------------------------------------\u001b[0m",
      "\u001b[0;31mValueError\u001b[0m                                Traceback (most recent call last)",
      "\u001b[0;32m/var/folders/jh/pvyml4f111n4w8rwzsvw08bw0000gn/T/ipykernel_7315/3574579213.py\u001b[0m in \u001b[0;36m<module>\u001b[0;34m\u001b[0m\n\u001b[0;32m----> 1\u001b[0;31m \u001b[0mboard\u001b[0m \u001b[0;34m=\u001b[0m \u001b[0;34m[\u001b[0m\u001b[0mint\u001b[0m\u001b[0;34m(\u001b[0m\u001b[0mi\u001b[0m\u001b[0;34m)\u001b[0m \u001b[0;32mfor\u001b[0m \u001b[0mj\u001b[0m \u001b[0;32min\u001b[0m \u001b[0minput\u001b[0m\u001b[0;34m[\u001b[0m\u001b[0;36m2\u001b[0m\u001b[0;34m:\u001b[0m\u001b[0;36m7\u001b[0m\u001b[0;34m]\u001b[0m \u001b[0;32mfor\u001b[0m \u001b[0mi\u001b[0m \u001b[0;32min\u001b[0m \u001b[0mj\u001b[0m\u001b[0;34m.\u001b[0m\u001b[0msplit\u001b[0m\u001b[0;34m(\u001b[0m\u001b[0;34m'\\s'\u001b[0m\u001b[0;34m)\u001b[0m\u001b[0;34m]\u001b[0m\u001b[0;34m\u001b[0m\u001b[0;34m\u001b[0m\u001b[0m\n\u001b[0m",
      "\u001b[0;32m/var/folders/jh/pvyml4f111n4w8rwzsvw08bw0000gn/T/ipykernel_7315/3574579213.py\u001b[0m in \u001b[0;36m<listcomp>\u001b[0;34m(.0)\u001b[0m\n\u001b[0;32m----> 1\u001b[0;31m \u001b[0mboard\u001b[0m \u001b[0;34m=\u001b[0m \u001b[0;34m[\u001b[0m\u001b[0mint\u001b[0m\u001b[0;34m(\u001b[0m\u001b[0mi\u001b[0m\u001b[0;34m)\u001b[0m \u001b[0;32mfor\u001b[0m \u001b[0mj\u001b[0m \u001b[0;32min\u001b[0m \u001b[0minput\u001b[0m\u001b[0;34m[\u001b[0m\u001b[0;36m2\u001b[0m\u001b[0;34m:\u001b[0m\u001b[0;36m7\u001b[0m\u001b[0;34m]\u001b[0m \u001b[0;32mfor\u001b[0m \u001b[0mi\u001b[0m \u001b[0;32min\u001b[0m \u001b[0mj\u001b[0m\u001b[0;34m.\u001b[0m\u001b[0msplit\u001b[0m\u001b[0;34m(\u001b[0m\u001b[0;34m'\\s'\u001b[0m\u001b[0;34m)\u001b[0m\u001b[0;34m]\u001b[0m\u001b[0;34m\u001b[0m\u001b[0;34m\u001b[0m\u001b[0m\n\u001b[0m",
      "\u001b[0;31mValueError\u001b[0m: invalid literal for int() with base 10: '22 13 17 11  0\\n'"
     ]
    }
   ],
   "source": [
    "board = [int(i) for j in input[2:7] for i in j.split('\\s')]"
   ]
  },
  {
   "cell_type": "code",
   "execution_count": 10,
   "id": "e394c011",
   "metadata": {},
   "outputs": [
    {
     "name": "stdout",
     "output_type": "stream",
     "text": [
      "22 13 17 11  0\n",
      "\n",
      "22 13 17 11  0\n",
      "\n",
      " 8  2 23  4 24\n",
      "\n",
      " 8  2 23  4 24\n",
      "\n",
      "21  9 14 16  7\n",
      "\n",
      "21  9 14 16  7\n",
      "\n",
      " 6 10  3 18  5\n",
      "\n",
      " 6 10  3 18  5\n",
      "\n",
      " 1 12 20 15 19\n",
      "\n",
      " 1 12 20 15 19\n",
      "\n"
     ]
    }
   ],
   "source": [
    "for j in input[2:7]:\n",
    "    print(j)\n",
    "    for i in j.split('\\s'):\n",
    "        print(i)"
   ]
  },
  {
   "cell_type": "code",
   "execution_count": 13,
   "id": "acc339f6",
   "metadata": {},
   "outputs": [
    {
     "data": {
      "text/plain": [
       "['22 13 17 11  0\\n']"
      ]
     },
     "execution_count": 13,
     "metadata": {},
     "output_type": "execute_result"
    }
   ],
   "source": [
    "input[2].split('')"
   ]
  },
  {
   "cell_type": "code",
   "execution_count": null,
   "id": "84c14a15",
   "metadata": {},
   "outputs": [],
   "source": []
  }
 ],
 "metadata": {
  "kernelspec": {
   "display_name": "Python 3 (ipykernel)",
   "language": "python",
   "name": "python3"
  },
  "language_info": {
   "codemirror_mode": {
    "name": "ipython",
    "version": 3
   },
   "file_extension": ".py",
   "mimetype": "text/x-python",
   "name": "python",
   "nbconvert_exporter": "python",
   "pygments_lexer": "ipython3",
   "version": "3.10.0"
  }
 },
 "nbformat": 4,
 "nbformat_minor": 5
}
