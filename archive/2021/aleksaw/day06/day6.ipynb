{
 "cells": [
  {
   "cell_type": "code",
   "execution_count": 1,
   "id": "befaab48",
   "metadata": {},
   "outputs": [],
   "source": [
    "import numpy as np\n",
    "import re"
   ]
  },
  {
   "cell_type": "code",
   "execution_count": 2,
   "id": "8e131c08",
   "metadata": {},
   "outputs": [],
   "source": [
    "input_file = \"test_input.txt\""
   ]
  },
  {
   "cell_type": "code",
   "execution_count": 3,
   "id": "d4e83fa3",
   "metadata": {},
   "outputs": [],
   "source": [
    "with open(input_file) as fh:\n",
    "    input = fh.readlines()"
   ]
  },
  {
   "cell_type": "code",
   "execution_count": 5,
   "id": "a76a0d82",
   "metadata": {},
   "outputs": [
    {
     "data": {
      "text/plain": [
       "[3, 4, 3, 1, 2]"
      ]
     },
     "execution_count": 5,
     "metadata": {},
     "output_type": "execute_result"
    }
   ],
   "source": [
    "input = [int(i) for i in input[0].split(',')]\n",
    "input"
   ]
  },
  {
   "cell_type": "code",
   "execution_count": 7,
   "id": "86a6c186",
   "metadata": {},
   "outputs": [],
   "source": [
    "num_states = 9\n",
    "state = np.bincount(input, minlength=9)"
   ]
  },
  {
   "cell_type": "code",
   "execution_count": 8,
   "id": "46355c8f",
   "metadata": {},
   "outputs": [
    {
     "data": {
      "text/plain": [
       "array([0, 1, 1, 2, 1, 0, 0, 0, 0])"
      ]
     },
     "execution_count": 8,
     "metadata": {},
     "output_type": "execute_result"
    }
   ],
   "source": [
    "state"
   ]
  },
  {
   "cell_type": "code",
   "execution_count": 9,
   "id": "fe9d52d0",
   "metadata": {},
   "outputs": [],
   "source": []
  },
  {
   "cell_type": "code",
   "execution_count": 11,
   "id": "e4be2995",
   "metadata": {},
   "outputs": [
    {
     "name": "stdout",
     "output_type": "stream",
     "text": [
      "[1 1 2 1 0 0 0 0 0]\n",
      "[0 1 1 2 1 0 0 0 0]\n",
      "[1 2 1 0 0 0 1 0 1]\n",
      "[1 1 2 1 0 0 0 0 0]\n",
      "[2 1 0 0 0 1 1 1 1]\n",
      "[1 2 1 0 0 0 1 0 1]\n"
     ]
    }
   ],
   "source": [
    "num_days = 3\n",
    "for _ in range(num_days):\n",
    "    new_state = np.zeros_like(state)\n",
    "    new_state[:num_states-1] = state[1:num_states]\n",
    "    new_state[6] += state[0]\n",
    "    new_state[8] += state[0]\n",
    "    print(new_state)\n",
    "    print(state)\n",
    "    state = new_state"
   ]
  },
  {
   "cell_type": "code",
   "execution_count": null,
   "id": "ae66451d",
   "metadata": {},
   "outputs": [],
   "source": []
  }
 ],
 "metadata": {
  "kernelspec": {
   "display_name": "Python 3 (ipykernel)",
   "language": "python",
   "name": "python3"
  },
  "language_info": {
   "codemirror_mode": {
    "name": "ipython",
    "version": 3
   },
   "file_extension": ".py",
   "mimetype": "text/x-python",
   "name": "python",
   "nbconvert_exporter": "python",
   "pygments_lexer": "ipython3",
   "version": "3.10.0"
  }
 },
 "nbformat": 4,
 "nbformat_minor": 5
}
