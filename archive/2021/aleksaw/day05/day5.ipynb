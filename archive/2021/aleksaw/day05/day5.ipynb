{
 "cells": [
  {
   "cell_type": "code",
   "execution_count": 1,
   "id": "8d52387f",
   "metadata": {},
   "outputs": [],
   "source": [
    "import numpy as np\n",
    "import re"
   ]
  },
  {
   "cell_type": "code",
   "execution_count": 2,
   "id": "3c9caa79",
   "metadata": {},
   "outputs": [],
   "source": [
    "input_file = \"test_input.txt\""
   ]
  },
  {
   "cell_type": "code",
   "execution_count": 16,
   "id": "c581c923",
   "metadata": {},
   "outputs": [],
   "source": [
    "with open(input_file) as fh:\n",
    "    input = fh.readlines()"
   ]
  },
  {
   "cell_type": "code",
   "execution_count": 17,
   "id": "a9a93c17",
   "metadata": {},
   "outputs": [
    {
     "data": {
      "text/plain": [
       "['0,9 -> 5,9\\n',\n",
       " '8,0 -> 0,8\\n',\n",
       " '9,4 -> 3,4\\n',\n",
       " '2,2 -> 2,1\\n',\n",
       " '7,0 -> 7,4\\n',\n",
       " '6,4 -> 2,0\\n',\n",
       " '0,9 -> 2,9\\n',\n",
       " '3,4 -> 1,4\\n',\n",
       " '0,0 -> 8,8\\n',\n",
       " '5,5 -> 8,2']"
      ]
     },
     "execution_count": 17,
     "metadata": {},
     "output_type": "execute_result"
    }
   ],
   "source": [
    "input"
   ]
  },
  {
   "cell_type": "code",
   "execution_count": 18,
   "id": "23ec3192",
   "metadata": {},
   "outputs": [
    {
     "data": {
      "text/plain": [
       "[[[0, 9], [5, 9]],\n",
       " [[8, 0], [0, 8]],\n",
       " [[9, 4], [3, 4]],\n",
       " [[2, 2], [2, 1]],\n",
       " [[7, 0], [7, 4]],\n",
       " [[6, 4], [2, 0]],\n",
       " [[0, 9], [2, 9]],\n",
       " [[3, 4], [1, 4]],\n",
       " [[0, 0], [8, 8]],\n",
       " [[5, 5], [8, 2]]]"
      ]
     },
     "execution_count": 18,
     "metadata": {},
     "output_type": "execute_result"
    }
   ],
   "source": [
    "input = [[[int(n) for n in c.split(',')] for c in i.split(' -> ')] for i in input]\n",
    "input"
   ]
  },
  {
   "cell_type": "code",
   "execution_count": 23,
   "id": "b3b92c68",
   "metadata": {},
   "outputs": [],
   "source": [
    "inp = np.array(input)"
   ]
  },
  {
   "cell_type": "code",
   "execution_count": 24,
   "id": "66f6a072",
   "metadata": {},
   "outputs": [
    {
     "data": {
      "text/plain": [
       "(10, 2, 2)"
      ]
     },
     "execution_count": 24,
     "metadata": {},
     "output_type": "execute_result"
    }
   ],
   "source": [
    "inp.shape"
   ]
  },
  {
   "cell_type": "code",
   "execution_count": 26,
   "id": "dbffa2b3",
   "metadata": {},
   "outputs": [],
   "source": [
    "xs = inp[:, :, 0]\n",
    "ys = inp[:, :, 1]"
   ]
  },
  {
   "cell_type": "code",
   "execution_count": 27,
   "id": "f27e3a9c",
   "metadata": {},
   "outputs": [],
   "source": [
    "max_x = xs.max()\n",
    "max_y = ys.max()"
   ]
  },
  {
   "cell_type": "code",
   "execution_count": 60,
   "id": "159a1966",
   "metadata": {},
   "outputs": [
    {
     "data": {
      "text/plain": [
       "array([[0, 0, 0, 0, 0, 0, 0, 0, 0, 0],\n",
       "       [0, 0, 0, 0, 0, 0, 0, 0, 0, 0],\n",
       "       [0, 0, 0, 0, 0, 0, 0, 0, 0, 0],\n",
       "       [0, 0, 0, 0, 0, 0, 0, 0, 0, 0],\n",
       "       [0, 0, 0, 0, 0, 0, 0, 0, 0, 0],\n",
       "       [0, 0, 0, 0, 0, 0, 0, 0, 0, 0],\n",
       "       [0, 0, 0, 0, 0, 0, 0, 0, 0, 0],\n",
       "       [0, 0, 0, 0, 0, 0, 0, 0, 0, 0],\n",
       "       [0, 0, 0, 0, 0, 0, 0, 0, 0, 0],\n",
       "       [0, 0, 0, 0, 0, 0, 0, 0, 0, 0]])"
      ]
     },
     "execution_count": 60,
     "metadata": {},
     "output_type": "execute_result"
    }
   ],
   "source": [
    "grid = np.zeros((max_x+1, max_y+1), dtype=int)\n",
    "grid"
   ]
  },
  {
   "cell_type": "code",
   "execution_count": 61,
   "id": "66de1099",
   "metadata": {},
   "outputs": [
    {
     "name": "stdout",
     "output_type": "stream",
     "text": [
      "0 9 5 9 False True True\n",
      "8 0 0 8 False False False\n",
      "9 4 3 4 False True True\n",
      "2 2 2 1 True False True\n",
      "7 0 7 4 True False True\n",
      "6 4 2 0 False False False\n",
      "0 9 2 9 False True True\n",
      "3 4 1 4 False True True\n",
      "0 0 8 8 False False False\n",
      "5 5 8 2 False False False\n"
     ]
    }
   ],
   "source": [
    "for i in input:\n",
    "    st, fi = i\n",
    "    x0, y0 = st\n",
    "    x1, y1 = fi\n",
    "    print(x0, y0, x1, y1, x0 == x1, y0 == y1, (x0 == x1 or y0 == y1))\n",
    "    if (x0 == x1 or y0 == y1):\n",
    "        xs = min(x0, x1)\n",
    "        xf = max(x0, x1)\n",
    "        ys = min(y0, y1)\n",
    "        yf = max(y0, y1)\n",
    "        grid[ys:yf+1, xs:xf+1] += 1"
   ]
  },
  {
   "cell_type": "code",
   "execution_count": 62,
   "id": "3a438433",
   "metadata": {},
   "outputs": [
    {
     "data": {
      "text/plain": [
       "array([[0, 0, 0, 0, 0, 0, 0, 1, 0, 0],\n",
       "       [0, 0, 1, 0, 0, 0, 0, 1, 0, 0],\n",
       "       [0, 0, 1, 0, 0, 0, 0, 1, 0, 0],\n",
       "       [0, 0, 0, 0, 0, 0, 0, 1, 0, 0],\n",
       "       [0, 1, 1, 2, 1, 1, 1, 2, 1, 1],\n",
       "       [0, 0, 0, 0, 0, 0, 0, 0, 0, 0],\n",
       "       [0, 0, 0, 0, 0, 0, 0, 0, 0, 0],\n",
       "       [0, 0, 0, 0, 0, 0, 0, 0, 0, 0],\n",
       "       [0, 0, 0, 0, 0, 0, 0, 0, 0, 0],\n",
       "       [2, 2, 2, 1, 1, 1, 0, 0, 0, 0]])"
      ]
     },
     "execution_count": 62,
     "metadata": {},
     "output_type": "execute_result"
    }
   ],
   "source": [
    "grid"
   ]
  },
  {
   "cell_type": "code",
   "execution_count": 63,
   "id": "63a659eb",
   "metadata": {},
   "outputs": [
    {
     "data": {
      "text/plain": [
       "5"
      ]
     },
     "execution_count": 63,
     "metadata": {},
     "output_type": "execute_result"
    }
   ],
   "source": []
  },
  {
   "cell_type": "code",
   "execution_count": null,
   "id": "99584496",
   "metadata": {},
   "outputs": [],
   "source": []
  },
  {
   "cell_type": "code",
   "execution_count": 7,
   "id": "73220da0",
   "metadata": {},
   "outputs": [],
   "source": [
    "draws = [int(i) for i in input[0].split(',')]"
   ]
  },
  {
   "cell_type": "code",
   "execution_count": null,
   "id": "a32b76e1",
   "metadata": {},
   "outputs": [],
   "source": []
  },
  {
   "cell_type": "code",
   "execution_count": 118,
   "id": "614fa771",
   "metadata": {},
   "outputs": [],
   "source": [
    "def get_board(lines: list):\n",
    "    board = []\n",
    "    for j in lines:\n",
    "        line = []\n",
    "        for i in re.split('\\s+', j):\n",
    "            try:\n",
    "                line.append(int(i))\n",
    "            except:\n",
    "                pass\n",
    "        board.append(line)\n",
    "    board = np.array(board)\n",
    "    assert board.shape == (5, 5)\n",
    "    \n",
    "    return board"
   ]
  },
  {
   "cell_type": "code",
   "execution_count": 31,
   "id": "9f398573",
   "metadata": {},
   "outputs": [],
   "source": [
    "boards = []\n",
    "for i in range(2, len(input), 6):\n",
    "    boards.append(get_board(input[i:i+5]))"
   ]
  },
  {
   "cell_type": "code",
   "execution_count": 33,
   "id": "98519c8c",
   "metadata": {},
   "outputs": [],
   "source": [
    "boards = np.array(boards)"
   ]
  },
  {
   "cell_type": "code",
   "execution_count": 117,
   "id": "cb5d5aa2",
   "metadata": {},
   "outputs": [
    {
     "data": {
      "text/plain": [
       "[2, 8, 14]"
      ]
     },
     "execution_count": 117,
     "metadata": {},
     "output_type": "execute_result"
    }
   ],
   "source": [
    "list(range(2, len(input), 6))"
   ]
  },
  {
   "cell_type": "code",
   "execution_count": 119,
   "id": "418a1f01",
   "metadata": {},
   "outputs": [],
   "source": [
    "def parse_input(inp: list):\n",
    "    draws = [int(i) for i in input[0].split(',')]\n",
    "    \n",
    "    boards = []\n",
    "    for i in range(2, len(input), 6):\n",
    "        boards.append(get_board(input[i:i+5]))\n",
    "        \n",
    "    boards = np.array(boards)\n",
    "    \n",
    "    return draws, boards"
   ]
  },
  {
   "cell_type": "code",
   "execution_count": 120,
   "id": "b9668ce0",
   "metadata": {},
   "outputs": [],
   "source": [
    "draws, boards = parse_input(input)"
   ]
  },
  {
   "cell_type": "code",
   "execution_count": 121,
   "id": "1a1e1503",
   "metadata": {},
   "outputs": [
    {
     "data": {
      "text/plain": [
       "(3, 5, 5)"
      ]
     },
     "execution_count": 121,
     "metadata": {},
     "output_type": "execute_result"
    }
   ],
   "source": [
    "boards.shape"
   ]
  },
  {
   "cell_type": "code",
   "execution_count": 122,
   "id": "9e22a59b",
   "metadata": {},
   "outputs": [
    {
     "data": {
      "text/plain": [
       "array([[[22, 13, 17, 11,  0],\n",
       "        [ 8,  2, 23,  4, 24],\n",
       "        [21,  9, 14, 16,  7],\n",
       "        [ 6, 10,  3, 18,  5],\n",
       "        [ 1, 12, 20, 15, 19]],\n",
       "\n",
       "       [[ 3, 15,  0,  2, 22],\n",
       "        [ 9, 18, 13, 17,  5],\n",
       "        [19,  8,  7, 25, 23],\n",
       "        [20, 11, 10, 24,  4],\n",
       "        [14, 21, 16, 12,  6]],\n",
       "\n",
       "       [[14, 21, 17, 24,  4],\n",
       "        [10, 16, 15,  9, 19],\n",
       "        [18,  8, 23, 26, 20],\n",
       "        [22, 11, 13,  6,  5],\n",
       "        [ 2,  0, 12,  3,  7]]])"
      ]
     },
     "execution_count": 122,
     "metadata": {},
     "output_type": "execute_result"
    }
   ],
   "source": [
    "boards"
   ]
  },
  {
   "cell_type": "code",
   "execution_count": 129,
   "id": "6304cc54",
   "metadata": {},
   "outputs": [
    {
     "name": "stdout",
     "output_type": "stream",
     "text": [
      "[[[22 13 -1 -1 -1]\n",
      "  [ 8 -1 -1 -1 -1]\n",
      "  [-1 -1 -1 16 -1]\n",
      "  [ 6 10  3 18 -1]\n",
      "  [ 1 12 20 15 19]]\n",
      "\n",
      " [[ 3 15 -1 -1 22]\n",
      "  [-1 18 13 -1 -1]\n",
      "  [19  8 -1 25 -1]\n",
      "  [20 -1 10 -1 -1]\n",
      "  [-1 -1 16 12  6]]\n",
      "\n",
      " [[-1 -1 -1 -1 -1]\n",
      "  [10 16 15 -1 19]\n",
      "  [18  8 -1 26 20]\n",
      "  [22 -1 13  6 -1]\n",
      "  [-1 -1 12  3 -1]]]\n"
     ]
    }
   ],
   "source": [
    "for draw in draws[11:12]:\n",
    "    mask = boards == draw\n",
    "    boards[mask] = -1\n",
    "print(boards)"
   ]
  },
  {
   "cell_type": "code",
   "execution_count": 130,
   "id": "2775b4fb",
   "metadata": {},
   "outputs": [
    {
     "data": {
      "text/plain": [
       "array([[[False, False,  True,  True,  True],\n",
       "        [False,  True,  True,  True,  True],\n",
       "        [ True,  True,  True, False,  True],\n",
       "        [False, False, False, False,  True],\n",
       "        [False, False, False, False, False]],\n",
       "\n",
       "       [[False, False,  True,  True, False],\n",
       "        [ True, False, False,  True,  True],\n",
       "        [False, False,  True, False,  True],\n",
       "        [False,  True, False,  True,  True],\n",
       "        [ True,  True, False, False, False]],\n",
       "\n",
       "       [[ True,  True,  True,  True,  True],\n",
       "        [False, False, False,  True, False],\n",
       "        [False, False,  True, False, False],\n",
       "        [False,  True, False, False,  True],\n",
       "        [ True,  True, False, False,  True]]])"
      ]
     },
     "execution_count": 130,
     "metadata": {},
     "output_type": "execute_result"
    }
   ],
   "source": [
    "mark = boards == -1\n",
    "mark"
   ]
  },
  {
   "cell_type": "code",
   "execution_count": 131,
   "id": "61382606",
   "metadata": {},
   "outputs": [
    {
     "data": {
      "text/plain": [
       "array([[False, False, False, False, False],\n",
       "       [False, False, False, False, False],\n",
       "       [False, False, False, False, False]])"
      ]
     },
     "execution_count": 131,
     "metadata": {},
     "output_type": "execute_result"
    }
   ],
   "source": [
    "col_win = mark.all(axis=1)\n",
    "col_win"
   ]
  },
  {
   "cell_type": "code",
   "execution_count": 132,
   "id": "4ee437e1",
   "metadata": {},
   "outputs": [
    {
     "data": {
      "text/plain": [
       "array([[False, False, False, False, False],\n",
       "       [False, False, False, False, False],\n",
       "       [ True, False, False, False, False]])"
      ]
     },
     "execution_count": 132,
     "metadata": {},
     "output_type": "execute_result"
    }
   ],
   "source": [
    "row_win = mark.all(axis=2)\n",
    "row_win"
   ]
  },
  {
   "cell_type": "code",
   "execution_count": 133,
   "id": "068b1bfd",
   "metadata": {},
   "outputs": [
    {
     "data": {
      "text/plain": [
       "array([False, False,  True])"
      ]
     },
     "execution_count": 133,
     "metadata": {},
     "output_type": "execute_result"
    }
   ],
   "source": [
    "board_win = row_win.any(axis=1) | col_win.any(axis=1)\n",
    "board_win"
   ]
  },
  {
   "cell_type": "code",
   "execution_count": 137,
   "id": "7673d702",
   "metadata": {},
   "outputs": [
    {
     "name": "stdout",
     "output_type": "stream",
     "text": [
      "188\n",
      "[7, 4, 9, 5, 11, 17, 23, 2, 0, 14, 21, 24, 10, 16, 13, 6, 15, 25, 12, 22, 18, 20, 8, 19, 3, 26, 1]\n",
      "4512\n"
     ]
    }
   ],
   "source": [
    "if board_win.any():\n",
    "    winning_board = boards[board_win,...]\n",
    "    score = (winning_board * (1-mark[board_win,...])).sum()\n",
    "    print(score)\n",
    "    print(draws)\n",
    "    print(score * draw)"
   ]
  },
  {
   "cell_type": "code",
   "execution_count": 135,
   "id": "4b3d2e20",
   "metadata": {},
   "outputs": [
    {
     "data": {
      "text/plain": [
       "array([[[-1, -1, -1, -1, -1],\n",
       "        [10, 16, 15, -1, 19],\n",
       "        [18,  8, -1, 26, 20],\n",
       "        [22, -1, 13,  6, -1],\n",
       "        [-1, -1, 12,  3, -1]]])"
      ]
     },
     "execution_count": 135,
     "metadata": {},
     "output_type": "execute_result"
    }
   ],
   "source": [
    "winning_board"
   ]
  },
  {
   "cell_type": "code",
   "execution_count": 136,
   "id": "3dd25189",
   "metadata": {},
   "outputs": [
    {
     "data": {
      "text/plain": [
       "array([[[False, False,  True,  True,  True],\n",
       "        [False,  True,  True,  True,  True],\n",
       "        [ True,  True,  True, False,  True],\n",
       "        [False, False, False, False,  True],\n",
       "        [False, False, False, False, False]],\n",
       "\n",
       "       [[False, False,  True,  True, False],\n",
       "        [ True, False, False,  True,  True],\n",
       "        [False, False,  True, False,  True],\n",
       "        [False,  True, False,  True,  True],\n",
       "        [ True,  True, False, False, False]],\n",
       "\n",
       "       [[ True,  True,  True,  True,  True],\n",
       "        [False, False, False,  True, False],\n",
       "        [False, False,  True, False, False],\n",
       "        [False,  True, False, False,  True],\n",
       "        [ True,  True, False, False,  True]]])"
      ]
     },
     "execution_count": 136,
     "metadata": {},
     "output_type": "execute_result"
    }
   ],
   "source": [
    "mark"
   ]
  },
  {
   "cell_type": "code",
   "execution_count": 138,
   "id": "152a78d5",
   "metadata": {},
   "outputs": [],
   "source": [
    "prev_board_win = np.full(boards.shape[0], False)"
   ]
  },
  {
   "cell_type": "code",
   "execution_count": 140,
   "id": "f6232ef0",
   "metadata": {},
   "outputs": [
    {
     "data": {
      "text/plain": [
       "array([ True,  True,  True])"
      ]
     },
     "execution_count": 140,
     "metadata": {},
     "output_type": "execute_result"
    }
   ],
   "source": [
    "~prev_board_win"
   ]
  },
  {
   "cell_type": "code",
   "execution_count": null,
   "id": "e59c271c",
   "metadata": {},
   "outputs": [],
   "source": []
  }
 ],
 "metadata": {
  "kernelspec": {
   "display_name": "Python 3 (ipykernel)",
   "language": "python",
   "name": "python3"
  },
  "language_info": {
   "codemirror_mode": {
    "name": "ipython",
    "version": 3
   },
   "file_extension": ".py",
   "mimetype": "text/x-python",
   "name": "python",
   "nbconvert_exporter": "python",
   "pygments_lexer": "ipython3",
   "version": "3.10.0"
  }
 },
 "nbformat": 4,
 "nbformat_minor": 5
}
