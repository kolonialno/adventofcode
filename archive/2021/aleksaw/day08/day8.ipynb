{
 "cells": [
  {
   "cell_type": "code",
   "execution_count": 1,
   "id": "e42a5911",
   "metadata": {},
   "outputs": [],
   "source": [
    "import numpy as np\n",
    "import re"
   ]
  },
  {
   "cell_type": "code",
   "execution_count": 7,
   "id": "53220ed6",
   "metadata": {},
   "outputs": [],
   "source": [
    "def parse_input(input_file: str):\n",
    "    with open(input_file) as fh:\n",
    "        input = fh.readlines()\n",
    "    \n",
    "    input = [(i.split(' | ')[0].split(), i.split(' | ')[1].split()) for i in input]\n",
    "\n",
    "    return input"
   ]
  },
  {
   "cell_type": "code",
   "execution_count": 3,
   "id": "16d0e0ed",
   "metadata": {},
   "outputs": [],
   "source": [
    "input_file = \"test_input.txt\""
   ]
  },
  {
   "cell_type": "code",
   "execution_count": 99,
   "id": "129c8657",
   "metadata": {},
   "outputs": [],
   "source": [
    "inp = parse_input(input_file)"
   ]
  },
  {
   "cell_type": "code",
   "execution_count": 100,
   "id": "ad7e6ceb",
   "metadata": {},
   "outputs": [
    {
     "data": {
      "text/plain": [
       "['acedgfb',\n",
       " 'cdfbe',\n",
       " 'gcdfa',\n",
       " 'fbcad',\n",
       " 'dab',\n",
       " 'cefabd',\n",
       " 'cdfgeb',\n",
       " 'eafb',\n",
       " 'cagedb',\n",
       " 'ab']"
      ]
     },
     "execution_count": 100,
     "metadata": {},
     "output_type": "execute_result"
    }
   ],
   "source": [
    "inp[0][0]"
   ]
  },
  {
   "cell_type": "code",
   "execution_count": 38,
   "id": "6fd16d2b",
   "metadata": {},
   "outputs": [
    {
     "data": {
      "text/plain": [
       "26"
      ]
     },
     "execution_count": 38,
     "metadata": {},
     "output_type": "execute_result"
    }
   ],
   "source": [
    "count = 0\n",
    "unique_lengths = {2, 3, 4, 7}\n",
    "for line in i:\n",
    "    for digit in line[1]:\n",
    "        if len(digit) in unique_lengths:\n",
    "            count += 1\n",
    "count"
   ]
  },
  {
   "cell_type": "code",
   "execution_count": 30,
   "id": "5364ef5a",
   "metadata": {},
   "outputs": [],
   "source": [
    "segment_in_digit = {\n",
    "    'a': (0, 2, 3, 5, 6, 7, 8, 9),\n",
    "    'b': (0, 4, 5, 6, 8, 9),\n",
    "    'c': (0, 1, 2, 3, 4, 7, 8, 9),\n",
    "    'd': (2, 3, 4, 5, 6, 8, 9),\n",
    "    'e': (0, 2, 6, 8),\n",
    "    'f': (0, 1, 3, 4, 5, 6, 7, 8, 9),\n",
    "    'g': (0, 2, 3, 5, 6, 8, 9),\n",
    "}"
   ]
  },
  {
   "cell_type": "code",
   "execution_count": 31,
   "id": "50cce187",
   "metadata": {},
   "outputs": [],
   "source": [
    "digit_segments = {}\n",
    "for s, v in segment_in_digit.items():\n",
    "    for d in v:\n",
    "        # print(s, d, digit_segments)\n",
    "        if d in digit_segments and digit_segments[d] is not None:\n",
    "            digit_segments[d].append(s)\n",
    "        else:\n",
    "            digit_segments[d] = [s]"
   ]
  },
  {
   "cell_type": "code",
   "execution_count": 32,
   "id": "60e09256",
   "metadata": {},
   "outputs": [
    {
     "data": {
      "text/plain": [
       "{0: ['a', 'b', 'c', 'e', 'f', 'g'],\n",
       " 2: ['a', 'c', 'd', 'e', 'g'],\n",
       " 3: ['a', 'c', 'd', 'f', 'g'],\n",
       " 5: ['a', 'b', 'd', 'f', 'g'],\n",
       " 6: ['a', 'b', 'd', 'e', 'f', 'g'],\n",
       " 7: ['a', 'c', 'f'],\n",
       " 8: ['a', 'b', 'c', 'd', 'e', 'f', 'g'],\n",
       " 9: ['a', 'b', 'c', 'd', 'f', 'g'],\n",
       " 4: ['b', 'c', 'd', 'f'],\n",
       " 1: ['c', 'f']}"
      ]
     },
     "execution_count": 32,
     "metadata": {},
     "output_type": "execute_result"
    }
   ],
   "source": [
    "digit_segments"
   ]
  },
  {
   "cell_type": "code",
   "execution_count": 50,
   "id": "68d172ff",
   "metadata": {},
   "outputs": [],
   "source": [
    "digit_map = {}\n",
    "for k, v in digit_segments.items():\n",
    "    a = np.array([c in v for c in 'abcdefg'])\n",
    "    digit_map[k] = a"
   ]
  },
  {
   "cell_type": "code",
   "execution_count": 51,
   "id": "c6ccae11",
   "metadata": {},
   "outputs": [
    {
     "data": {
      "text/plain": [
       "{0: array([ True,  True,  True, False,  True,  True,  True]),\n",
       " 2: array([ True, False,  True,  True,  True, False,  True]),\n",
       " 3: array([ True, False,  True,  True, False,  True,  True]),\n",
       " 5: array([ True,  True, False,  True, False,  True,  True]),\n",
       " 6: array([ True,  True, False,  True,  True,  True,  True]),\n",
       " 7: array([ True, False,  True, False, False,  True, False]),\n",
       " 8: array([ True,  True,  True,  True,  True,  True,  True]),\n",
       " 9: array([ True,  True,  True,  True, False,  True,  True]),\n",
       " 4: array([False,  True,  True,  True, False,  True, False]),\n",
       " 1: array([False, False,  True, False, False,  True, False])}"
      ]
     },
     "execution_count": 51,
     "metadata": {},
     "output_type": "execute_result"
    }
   ],
   "source": [
    "digit_map"
   ]
  },
  {
   "cell_type": "markdown",
   "id": "818f9fab",
   "metadata": {},
   "source": [
    "a only in 7\n",
    "6-long diff by c, d, e\n",
    "5-long diff by ce, cf, bf"
   ]
  },
  {
   "cell_type": "code",
   "execution_count": 40,
   "id": "8cfa56c8",
   "metadata": {},
   "outputs": [],
   "source": [
    "import itertools"
   ]
  },
  {
   "cell_type": "code",
   "execution_count": 48,
   "id": "1dd958a9",
   "metadata": {},
   "outputs": [
    {
     "data": {
      "text/plain": [
       "['be',\n",
       " 'cfbegad',\n",
       " 'cbdgef',\n",
       " 'fgaecd',\n",
       " 'cgeb',\n",
       " 'fdcge',\n",
       " 'agebfd',\n",
       " 'fecdb',\n",
       " 'fabcd',\n",
       " 'edb']"
      ]
     },
     "execution_count": 48,
     "metadata": {},
     "output_type": "execute_result"
    }
   ],
   "source": [
    "inp[0][0]"
   ]
  },
  {
   "cell_type": "code",
   "execution_count": 101,
   "id": "51589dfc",
   "metadata": {},
   "outputs": [],
   "source": [
    "fives = []\n",
    "sixes = []\n",
    "for v in inp[0][0]:\n",
    "    if len(v) == 2:\n",
    "        one = v\n",
    "    elif len(v) == 3:\n",
    "        seven = v\n",
    "    elif len(v) == 4:\n",
    "        four = v\n",
    "    elif len(v) == 7:\n",
    "        eight = v\n",
    "    elif len(v) == 5:\n",
    "        fives.append(v)\n",
    "    elif len(v) == 6:\n",
    "        sixes.append(v)"
   ]
  },
  {
   "cell_type": "code",
   "execution_count": 102,
   "id": "27c1e84d",
   "metadata": {},
   "outputs": [
    {
     "data": {
      "text/plain": [
       "['cdfbe', 'gcdfa', 'fbcad']"
      ]
     },
     "execution_count": 102,
     "metadata": {},
     "output_type": "execute_result"
    }
   ],
   "source": [
    "fives"
   ]
  },
  {
   "cell_type": "code",
   "execution_count": 103,
   "id": "9766bf6d",
   "metadata": {},
   "outputs": [
    {
     "data": {
      "text/plain": [
       "'dab'"
      ]
     },
     "execution_count": 103,
     "metadata": {},
     "output_type": "execute_result"
    }
   ],
   "source": [
    "seven"
   ]
  },
  {
   "cell_type": "code",
   "execution_count": 75,
   "id": "a58d4bd9",
   "metadata": {},
   "outputs": [],
   "source": [
    "key = [None for _ in range(7)]"
   ]
  },
  {
   "cell_type": "code",
   "execution_count": null,
   "id": "419477c2",
   "metadata": {},
   "outputs": [],
   "source": [
    "key = "
   ]
  },
  {
   "cell_type": "code",
   "execution_count": 114,
   "id": "d5cb66aa",
   "metadata": {},
   "outputs": [],
   "source": [
    "valid_permutations = []\n",
    "for i, p in enumerate(itertools.permutations('abcdefg')):\n",
    "    if sorted(one) != sorted(''.join([c for c, y in zip(p, digit_map[1]) if y])):\n",
    "        continue\n",
    "    if sorted(seven) != sorted(''.join([c for c, y in zip(p, digit_map[7]) if y])):\n",
    "        continue\n",
    "    if sorted(four) != sorted(''.join([c for c, y in zip(p, digit_map[4]) if y])):\n",
    "        continue\n",
    "    \n",
    "    pass_five = 0\n",
    "    cands = [2, 3, 5]\n",
    "    for five in fives:\n",
    "        for cand in cands:\n",
    "            if sorted(five) == sorted(''.join([c for c, y in zip(p, digit_map[cand]) if y])):\n",
    "                pass_five += 1\n",
    "                cands.remove(cand)\n",
    "                break\n",
    "    if pass_five < 3:\n",
    "        continue\n",
    "        \n",
    "    pass_six = 0\n",
    "    cands = [0, 6, 9]\n",
    "    for six in sixes:\n",
    "        for cand in cands:\n",
    "            if sorted(six) == sorted(''.join([c for c, y in zip(p, digit_map[cand]) if y])):\n",
    "                pass_six += 1\n",
    "                cands.remove(cand)\n",
    "                break\n",
    "    if pass_six < 3:\n",
    "        continue\n",
    "            \n",
    "    \n",
    "    valid_permutations.append(p)"
   ]
  },
  {
   "cell_type": "code",
   "execution_count": 115,
   "id": "6f974cb3",
   "metadata": {},
   "outputs": [
    {
     "data": {
      "text/plain": [
       "[('d', 'e', 'a', 'f', 'g', 'b', 'c')]"
      ]
     },
     "execution_count": 115,
     "metadata": {},
     "output_type": "execute_result"
    }
   ],
   "source": [
    "valid_permutations"
   ]
  },
  {
   "cell_type": "code",
   "execution_count": 116,
   "id": "aca790e6",
   "metadata": {},
   "outputs": [
    {
     "data": {
      "text/plain": [
       "['cdfeb', 'fcadb', 'cdfeb', 'cdbaf']"
      ]
     },
     "execution_count": 116,
     "metadata": {},
     "output_type": "execute_result"
    }
   ],
   "source": [
    "inp[0][1]"
   ]
  },
  {
   "cell_type": "code",
   "execution_count": 119,
   "id": "516fe7f6",
   "metadata": {},
   "outputs": [],
   "source": [
    "decoded = [np.array([c in d for c in valid_permutations[0]]) for d in inp[0][1]]"
   ]
  },
  {
   "cell_type": "code",
   "execution_count": 118,
   "id": "d48f447e",
   "metadata": {},
   "outputs": [
    {
     "data": {
      "text/plain": [
       "{0: array([ True,  True,  True, False,  True,  True,  True]),\n",
       " 2: array([ True, False,  True,  True,  True, False,  True]),\n",
       " 3: array([ True, False,  True,  True, False,  True,  True]),\n",
       " 5: array([ True,  True, False,  True, False,  True,  True]),\n",
       " 6: array([ True,  True, False,  True,  True,  True,  True]),\n",
       " 7: array([ True, False,  True, False, False,  True, False]),\n",
       " 8: array([ True,  True,  True,  True,  True,  True,  True]),\n",
       " 9: array([ True,  True,  True,  True, False,  True,  True]),\n",
       " 4: array([False,  True,  True,  True, False,  True, False]),\n",
       " 1: array([False, False,  True, False, False,  True, False])}"
      ]
     },
     "execution_count": 118,
     "metadata": {},
     "output_type": "execute_result"
    }
   ],
   "source": [
    "digit_map"
   ]
  },
  {
   "cell_type": "code",
   "execution_count": 128,
   "id": "20d64c93",
   "metadata": {},
   "outputs": [
    {
     "data": {
      "text/plain": [
       "5353"
      ]
     },
     "execution_count": 128,
     "metadata": {},
     "output_type": "execute_result"
    }
   ],
   "source": [
    "mul = np.array([1000, 100, 10, 1])\n",
    "vals = []\n",
    "for d in decoded:\n",
    "    for v, mask in digit_map.items():\n",
    "        if (d == mask).all():\n",
    "            vals.append(v)\n",
    "(mul * np.array(vals)).sum()"
   ]
  },
  {
   "cell_type": "code",
   "execution_count": null,
   "id": "44eca4c3",
   "metadata": {},
   "outputs": [],
   "source": []
  }
 ],
 "metadata": {
  "kernelspec": {
   "display_name": "Python 3 (ipykernel)",
   "language": "python",
   "name": "python3"
  },
  "language_info": {
   "codemirror_mode": {
    "name": "ipython",
    "version": 3
   },
   "file_extension": ".py",
   "mimetype": "text/x-python",
   "name": "python",
   "nbconvert_exporter": "python",
   "pygments_lexer": "ipython3",
   "version": "3.10.0"
  }
 },
 "nbformat": 4,
 "nbformat_minor": 5
}
