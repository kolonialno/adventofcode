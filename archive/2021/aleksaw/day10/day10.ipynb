{
 "cells": [
  {
   "cell_type": "code",
   "execution_count": 1,
   "id": "a974d206",
   "metadata": {},
   "outputs": [],
   "source": [
    "import numpy as np\n",
    "import re"
   ]
  },
  {
   "cell_type": "code",
   "execution_count": 4,
   "id": "6b7024a4",
   "metadata": {},
   "outputs": [],
   "source": [
    "def parse_input(input_file: str):\n",
    "    with open(input_file) as fh:\n",
    "        inp = fh.readlines()\n",
    "    \n",
    "    return [i.strip() for i in inp]\n",
    "\n",
    "input_file = \"test_input.txt\"\n",
    "\n",
    "inp = parse_input(input_file)"
   ]
  },
  {
   "cell_type": "code",
   "execution_count": 5,
   "id": "245e8337",
   "metadata": {},
   "outputs": [
    {
     "data": {
      "text/plain": [
       "['[({(<(())[]>[[{[]{<()<>>',\n",
       " '[(()[<>])]({[<{<<[]>>(',\n",
       " '{([(<{}[<>[]}>{[]{[(<()>',\n",
       " '(((({<>}<{<{<>}{[]{[]{}',\n",
       " '[[<[([]))<([[{}[[()]]]',\n",
       " '[{[{({}]{}}([{[{{{}}([]',\n",
       " '{<[[]]>}<{[{[{[]{()[[[]',\n",
       " '[<(<(<(<{}))><([]([]()',\n",
       " '<{([([[(<>()){}]>(<<{{',\n",
       " '<{([{{}}[<[[[<>{}]]]>[]]']"
      ]
     },
     "execution_count": 5,
     "metadata": {},
     "output_type": "execute_result"
    }
   ],
   "source": [
    "inp"
   ]
  },
  {
   "cell_type": "code",
   "execution_count": 25,
   "id": "62daccbf",
   "metadata": {},
   "outputs": [
    {
     "name": "stdout",
     "output_type": "stream",
     "text": [
      "- {([(<{}[<>[]}>{[]{[(<()> - Expected ], but found } instead\n",
      "- [[<[([]))<([[{}[[()]]] - Expected ], but found ) instead\n",
      "- [{[{({}]{}}([{[{{{}}([] - Expected ), but found ] instead\n",
      "- [<(<(<(<{}))><([]([]() - Expected >, but found ) instead\n",
      "- <{([([[(<>()){}]>(<<{{ - Expected ], but found > instead\n"
     ]
    }
   ],
   "source": [
    "invalid = np.full(len(inp), False)\n",
    "corrupted = []\n",
    "for i, line in enumerate(inp):\n",
    "    ret = check_line(line)\n",
    "    if ret is not None:\n",
    "        invalid[i] = True\n",
    "        corrupted.append(ret)"
   ]
  },
  {
   "cell_type": "code",
   "execution_count": 26,
   "id": "c7af11b6",
   "metadata": {},
   "outputs": [],
   "source": [
    "def check_line(line):\n",
    "    opening_chars = ['(', '[', '{', '<']\n",
    "    closing_chars = [')', ']', '}', '>']\n",
    "    openers = []\n",
    "    for c in line:\n",
    "        if c in opening_chars:\n",
    "            openers.append(c)\n",
    "        elif c in closing_chars:\n",
    "            opener = openers.pop()\n",
    "            closer = closing_chars[opening_chars.index(opener)]\n",
    "            if closer != c:\n",
    "                print(f\"- {line} - Expected {closer}, but found {c} instead\")\n",
    "                return c\n",
    "        else:\n",
    "            print(f\"- {line} - Expected char in {closing_chars}, but found {c} instead\")\n",
    "            return 'err'"
   ]
  },
  {
   "cell_type": "code",
   "execution_count": 29,
   "id": "1375e61a",
   "metadata": {},
   "outputs": [
    {
     "data": {
      "text/plain": [
       "['}', ')', ']', ')', '>']"
      ]
     },
     "execution_count": 29,
     "metadata": {},
     "output_type": "execute_result"
    }
   ],
   "source": [
    "corrupted"
   ]
  },
  {
   "cell_type": "code",
   "execution_count": 23,
   "id": "05b0ced6",
   "metadata": {},
   "outputs": [],
   "source": [
    "scores = {\n",
    "    ')': 3,\n",
    "    ']': 57,\n",
    "    '}': 1197,\n",
    "    '>': 25137\n",
    "}"
   ]
  },
  {
   "cell_type": "code",
   "execution_count": 30,
   "id": "002b4a4b",
   "metadata": {},
   "outputs": [],
   "source": [
    "score = 0\n",
    "for c in corrupted:\n",
    "    if c != 'err':\n",
    "        score += scores[c]"
   ]
  },
  {
   "cell_type": "code",
   "execution_count": 31,
   "id": "ba279e91",
   "metadata": {},
   "outputs": [
    {
     "data": {
      "text/plain": [
       "26397"
      ]
     },
     "execution_count": 31,
     "metadata": {},
     "output_type": "execute_result"
    }
   ],
   "source": [
    "score"
   ]
  },
  {
   "cell_type": "code",
   "execution_count": null,
   "id": "7bb3c2ce",
   "metadata": {},
   "outputs": [],
   "source": []
  }
 ],
 "metadata": {
  "kernelspec": {
   "display_name": "Python 3 (ipykernel)",
   "language": "python",
   "name": "python3"
  },
  "language_info": {
   "codemirror_mode": {
    "name": "ipython",
    "version": 3
   },
   "file_extension": ".py",
   "mimetype": "text/x-python",
   "name": "python",
   "nbconvert_exporter": "python",
   "pygments_lexer": "ipython3",
   "version": "3.10.0"
  }
 },
 "nbformat": 4,
 "nbformat_minor": 5
}
